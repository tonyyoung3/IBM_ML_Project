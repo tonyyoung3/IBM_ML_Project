{
  "nbformat": 4,
  "nbformat_minor": 0,
  "metadata": {
    "colab": {
      "name": "Untitled0.ipynb",
      "provenance": [],
      "authorship_tag": "ABX9TyPiL07R7z8VpIHfAUWQOtLr",
      "include_colab_link": true
    },
    "kernelspec": {
      "name": "python3",
      "display_name": "Python 3"
    },
    "language_info": {
      "name": "python"
    }
  },
  "cells": [
    {
      "cell_type": "markdown",
      "metadata": {
        "id": "view-in-github",
        "colab_type": "text"
      },
      "source": [
        "<a href=\"https://colab.research.google.com/github/tonyyoung3/ibm_ML_practice/blob/master/stock_analysis.ipynb\" target=\"_parent\"><img src=\"https://colab.research.google.com/assets/colab-badge.svg\" alt=\"Open In Colab\"/></a>"
      ]
    },
    {
      "cell_type": "code",
      "metadata": {
        "id": "W3ihWuUaX_qo"
      },
      "source": [
        "import pandas as pd\n",
        "import numpy as np\n",
        "import matplotlib.pyplot as plt\n",
        "import scipy.optimize as solver\n",
        "from functools import reduce\n"
      ],
      "execution_count": null,
      "outputs": []
    },
    {
      "cell_type": "code",
      "metadata": {
        "colab": {
          "base_uri": "https://localhost:8080/",
          "height": 419
        },
        "id": "uTZjtOBmYUXx",
        "outputId": "bc382833-63c9-42fc-dc78-374a14f9e93c"
      },
      "source": [
        "df = pd.read_csv('efficient_frontier.csv',index_col=0,parse_dates=True)\n",
        "total_stock = len(df.columns)\n",
        "returns = df.pct_change()\n",
        "returns = returns[1:]\n",
        "#returns.head()"
      ],
      "execution_count": null,
      "outputs": [
        {
          "output_type": "execute_result",
          "data": {
            "text/html": [
              "<div>\n",
              "<style scoped>\n",
              "    .dataframe tbody tr th:only-of-type {\n",
              "        vertical-align: middle;\n",
              "    }\n",
              "\n",
              "    .dataframe tbody tr th {\n",
              "        vertical-align: top;\n",
              "    }\n",
              "\n",
              "    .dataframe thead th {\n",
              "        text-align: right;\n",
              "    }\n",
              "</style>\n",
              "<table border=\"1\" class=\"dataframe\">\n",
              "  <thead>\n",
              "    <tr style=\"text-align: right;\">\n",
              "      <th></th>\n",
              "      <th>2317</th>\n",
              "      <th>2542</th>\n",
              "      <th>2881</th>\n",
              "      <th>2324</th>\n",
              "      <th>2535</th>\n",
              "      <th>5880</th>\n",
              "      <th>1101</th>\n",
              "      <th>2330</th>\n",
              "      <th>2301</th>\n",
              "      <th>4938</th>\n",
              "    </tr>\n",
              "  </thead>\n",
              "  <tbody>\n",
              "    <tr>\n",
              "      <th>2019-01-03</th>\n",
              "      <td>-0.017118</td>\n",
              "      <td>NaN</td>\n",
              "      <td>-0.006508</td>\n",
              "      <td>-0.002865</td>\n",
              "      <td>-0.005115</td>\n",
              "      <td>NaN</td>\n",
              "      <td>-0.009859</td>\n",
              "      <td>-0.018223</td>\n",
              "      <td>NaN</td>\n",
              "      <td>-0.011952</td>\n",
              "    </tr>\n",
              "    <tr>\n",
              "      <th>2019-01-04</th>\n",
              "      <td>-0.018868</td>\n",
              "      <td>NaN</td>\n",
              "      <td>-0.010917</td>\n",
              "      <td>-0.017241</td>\n",
              "      <td>-0.007712</td>\n",
              "      <td>-0.002825</td>\n",
              "      <td>NaN</td>\n",
              "      <td>-0.034803</td>\n",
              "      <td>-0.020482</td>\n",
              "      <td>-0.022177</td>\n",
              "    </tr>\n",
              "    <tr>\n",
              "      <th>2019-01-07</th>\n",
              "      <td>NaN</td>\n",
              "      <td>NaN</td>\n",
              "      <td>NaN</td>\n",
              "      <td>NaN</td>\n",
              "      <td>NaN</td>\n",
              "      <td>NaN</td>\n",
              "      <td>NaN</td>\n",
              "      <td>NaN</td>\n",
              "      <td>NaN</td>\n",
              "      <td>NaN</td>\n",
              "    </tr>\n",
              "    <tr>\n",
              "      <th>2019-01-08</th>\n",
              "      <td>-0.010101</td>\n",
              "      <td>-0.009868</td>\n",
              "      <td>-0.005441</td>\n",
              "      <td>-0.005731</td>\n",
              "      <td>NaN</td>\n",
              "      <td>NaN</td>\n",
              "      <td>-0.012500</td>\n",
              "      <td>-0.009390</td>\n",
              "      <td>NaN</td>\n",
              "      <td>-0.022680</td>\n",
              "    </tr>\n",
              "    <tr>\n",
              "      <th>2019-01-09</th>\n",
              "      <td>NaN</td>\n",
              "      <td>NaN</td>\n",
              "      <td>NaN</td>\n",
              "      <td>NaN</td>\n",
              "      <td>NaN</td>\n",
              "      <td>NaN</td>\n",
              "      <td>NaN</td>\n",
              "      <td>NaN</td>\n",
              "      <td>NaN</td>\n",
              "      <td>NaN</td>\n",
              "    </tr>\n",
              "    <tr>\n",
              "      <th>...</th>\n",
              "      <td>...</td>\n",
              "      <td>...</td>\n",
              "      <td>...</td>\n",
              "      <td>...</td>\n",
              "      <td>...</td>\n",
              "      <td>...</td>\n",
              "      <td>...</td>\n",
              "      <td>...</td>\n",
              "      <td>...</td>\n",
              "      <td>...</td>\n",
              "    </tr>\n",
              "    <tr>\n",
              "      <th>2019-12-25</th>\n",
              "      <td>NaN</td>\n",
              "      <td>NaN</td>\n",
              "      <td>-0.001075</td>\n",
              "      <td>NaN</td>\n",
              "      <td>NaN</td>\n",
              "      <td>NaN</td>\n",
              "      <td>-0.001159</td>\n",
              "      <td>NaN</td>\n",
              "      <td>NaN</td>\n",
              "      <td>NaN</td>\n",
              "    </tr>\n",
              "    <tr>\n",
              "      <th>2019-12-26</th>\n",
              "      <td>-0.002198</td>\n",
              "      <td>NaN</td>\n",
              "      <td>NaN</td>\n",
              "      <td>NaN</td>\n",
              "      <td>-0.002375</td>\n",
              "      <td>NaN</td>\n",
              "      <td>-0.001160</td>\n",
              "      <td>NaN</td>\n",
              "      <td>NaN</td>\n",
              "      <td>-0.001443</td>\n",
              "    </tr>\n",
              "    <tr>\n",
              "      <th>2019-12-27</th>\n",
              "      <td>NaN</td>\n",
              "      <td>NaN</td>\n",
              "      <td>NaN</td>\n",
              "      <td>NaN</td>\n",
              "      <td>NaN</td>\n",
              "      <td>-0.002387</td>\n",
              "      <td>NaN</td>\n",
              "      <td>NaN</td>\n",
              "      <td>NaN</td>\n",
              "      <td>NaN</td>\n",
              "    </tr>\n",
              "    <tr>\n",
              "      <th>2019-12-30</th>\n",
              "      <td>-0.006557</td>\n",
              "      <td>NaN</td>\n",
              "      <td>-0.001070</td>\n",
              "      <td>-0.002632</td>\n",
              "      <td>-0.002370</td>\n",
              "      <td>-0.004785</td>\n",
              "      <td>NaN</td>\n",
              "      <td>-0.010355</td>\n",
              "      <td>-0.001001</td>\n",
              "      <td>-0.008646</td>\n",
              "    </tr>\n",
              "    <tr>\n",
              "      <th>2019-12-31</th>\n",
              "      <td>-0.001100</td>\n",
              "      <td>-0.003229</td>\n",
              "      <td>-0.006424</td>\n",
              "      <td>-0.005277</td>\n",
              "      <td>NaN</td>\n",
              "      <td>-0.002404</td>\n",
              "      <td>NaN</td>\n",
              "      <td>-0.010463</td>\n",
              "      <td>-0.011022</td>\n",
              "      <td>-0.005814</td>\n",
              "    </tr>\n",
              "  </tbody>\n",
              "</table>\n",
              "<p>238 rows × 10 columns</p>\n",
              "</div>"
            ],
            "text/plain": [
              "                2317      2542      2881  ...      2330      2301      4938\n",
              "2019-01-03 -0.017118       NaN -0.006508  ... -0.018223       NaN -0.011952\n",
              "2019-01-04 -0.018868       NaN -0.010917  ... -0.034803 -0.020482 -0.022177\n",
              "2019-01-07       NaN       NaN       NaN  ...       NaN       NaN       NaN\n",
              "2019-01-08 -0.010101 -0.009868 -0.005441  ... -0.009390       NaN -0.022680\n",
              "2019-01-09       NaN       NaN       NaN  ...       NaN       NaN       NaN\n",
              "...              ...       ...       ...  ...       ...       ...       ...\n",
              "2019-12-25       NaN       NaN -0.001075  ...       NaN       NaN       NaN\n",
              "2019-12-26 -0.002198       NaN       NaN  ...       NaN       NaN -0.001443\n",
              "2019-12-27       NaN       NaN       NaN  ...       NaN       NaN       NaN\n",
              "2019-12-30 -0.006557       NaN -0.001070  ... -0.010355 -0.001001 -0.008646\n",
              "2019-12-31 -0.001100 -0.003229 -0.006424  ... -0.010463 -0.011022 -0.005814\n",
              "\n",
              "[238 rows x 10 columns]"
            ]
          },
          "metadata": {
            "tags": []
          },
          "execution_count": 5
        }
      ]
    },
    {
      "cell_type": "code",
      "metadata": {
        "id": "-CkkJKGch47F"
      },
      "source": [
        ""
      ],
      "execution_count": null,
      "outputs": []
    },
    {
      "cell_type": "code",
      "metadata": {
        "colab": {
          "base_uri": "https://localhost:8080/"
        },
        "id": "ZpXoK4hOY6sl",
        "outputId": "df0b686d-eafe-411d-ffdd-24914fde290a"
      },
      "source": [
        "covariance_matrix = returns.cov() * 252\n",
        "stocks_expected_return = returns.mean() * 252\n",
        "stocks_weights = np.array([.1, .1, .1, .1,.1,.1,.1,.1,.1,.1])\n",
        "portfolio_return = sum(stocks_weights * stocks_expected_return)\n",
        "portfolio_risk = np.sqrt(reduce(np.dot, [stocks_weights, covariance_matrix, stocks_weights.T]))\n",
        "print('投資組合預期報酬率為: '+ str(round(portfolio_return,4)))\n",
        "print('投資組合風險為: ' + str(round(portfolio_risk,4)))"
      ],
      "execution_count": null,
      "outputs": [
        {
          "output_type": "stream",
          "text": [
            "投資組合預期報酬率為: 0.2034\n",
            "投資組合風險為: 0.0986\n"
          ],
          "name": "stdout"
        }
      ]
    },
    {
      "cell_type": "code",
      "metadata": {
        "colab": {
          "base_uri": "https://localhost:8080/",
          "height": 359
        },
        "id": "CFz3DpV-fO8q",
        "outputId": "94cff354-8115-42c0-e579-9052781b4c3e"
      },
      "source": [
        "covariance_matrix "
      ],
      "execution_count": null,
      "outputs": [
        {
          "output_type": "execute_result",
          "data": {
            "text/html": [
              "<div>\n",
              "<style scoped>\n",
              "    .dataframe tbody tr th:only-of-type {\n",
              "        vertical-align: middle;\n",
              "    }\n",
              "\n",
              "    .dataframe tbody tr th {\n",
              "        vertical-align: top;\n",
              "    }\n",
              "\n",
              "    .dataframe thead th {\n",
              "        text-align: right;\n",
              "    }\n",
              "</style>\n",
              "<table border=\"1\" class=\"dataframe\">\n",
              "  <thead>\n",
              "    <tr style=\"text-align: right;\">\n",
              "      <th></th>\n",
              "      <th>2317</th>\n",
              "      <th>2542</th>\n",
              "      <th>2881</th>\n",
              "      <th>2324</th>\n",
              "      <th>2535</th>\n",
              "      <th>5880</th>\n",
              "      <th>1101</th>\n",
              "      <th>2330</th>\n",
              "      <th>2301</th>\n",
              "      <th>4938</th>\n",
              "    </tr>\n",
              "  </thead>\n",
              "  <tbody>\n",
              "    <tr>\n",
              "      <th>2317</th>\n",
              "      <td>0.058115</td>\n",
              "      <td>0.005047</td>\n",
              "      <td>0.009263</td>\n",
              "      <td>0.008700</td>\n",
              "      <td>0.007579</td>\n",
              "      <td>0.005134</td>\n",
              "      <td>0.011611</td>\n",
              "      <td>0.023212</td>\n",
              "      <td>0.009007</td>\n",
              "      <td>0.022507</td>\n",
              "    </tr>\n",
              "    <tr>\n",
              "      <th>2542</th>\n",
              "      <td>0.005047</td>\n",
              "      <td>0.016832</td>\n",
              "      <td>0.003595</td>\n",
              "      <td>0.002823</td>\n",
              "      <td>0.003115</td>\n",
              "      <td>0.002035</td>\n",
              "      <td>0.003375</td>\n",
              "      <td>0.006180</td>\n",
              "      <td>0.004135</td>\n",
              "      <td>0.003120</td>\n",
              "    </tr>\n",
              "    <tr>\n",
              "      <th>2881</th>\n",
              "      <td>0.009263</td>\n",
              "      <td>0.003595</td>\n",
              "      <td>0.021603</td>\n",
              "      <td>0.005717</td>\n",
              "      <td>0.005136</td>\n",
              "      <td>0.005772</td>\n",
              "      <td>0.003293</td>\n",
              "      <td>0.010097</td>\n",
              "      <td>0.005176</td>\n",
              "      <td>0.009089</td>\n",
              "    </tr>\n",
              "    <tr>\n",
              "      <th>2324</th>\n",
              "      <td>0.008700</td>\n",
              "      <td>0.002823</td>\n",
              "      <td>0.005717</td>\n",
              "      <td>0.017688</td>\n",
              "      <td>0.002932</td>\n",
              "      <td>0.004927</td>\n",
              "      <td>0.004383</td>\n",
              "      <td>0.010911</td>\n",
              "      <td>0.005740</td>\n",
              "      <td>0.008828</td>\n",
              "    </tr>\n",
              "    <tr>\n",
              "      <th>2535</th>\n",
              "      <td>0.007579</td>\n",
              "      <td>0.003115</td>\n",
              "      <td>0.005136</td>\n",
              "      <td>0.002932</td>\n",
              "      <td>0.019299</td>\n",
              "      <td>0.002083</td>\n",
              "      <td>0.001067</td>\n",
              "      <td>0.004385</td>\n",
              "      <td>0.005363</td>\n",
              "      <td>0.004207</td>\n",
              "    </tr>\n",
              "    <tr>\n",
              "      <th>5880</th>\n",
              "      <td>0.005134</td>\n",
              "      <td>0.002035</td>\n",
              "      <td>0.005772</td>\n",
              "      <td>0.004927</td>\n",
              "      <td>0.002083</td>\n",
              "      <td>0.010723</td>\n",
              "      <td>0.001978</td>\n",
              "      <td>0.006227</td>\n",
              "      <td>0.004864</td>\n",
              "      <td>0.007471</td>\n",
              "    </tr>\n",
              "    <tr>\n",
              "      <th>1101</th>\n",
              "      <td>0.011611</td>\n",
              "      <td>0.003375</td>\n",
              "      <td>0.003293</td>\n",
              "      <td>0.004383</td>\n",
              "      <td>0.001067</td>\n",
              "      <td>0.001978</td>\n",
              "      <td>0.045541</td>\n",
              "      <td>0.009744</td>\n",
              "      <td>0.004165</td>\n",
              "      <td>0.006510</td>\n",
              "    </tr>\n",
              "    <tr>\n",
              "      <th>2330</th>\n",
              "      <td>0.023212</td>\n",
              "      <td>0.006180</td>\n",
              "      <td>0.010097</td>\n",
              "      <td>0.010911</td>\n",
              "      <td>0.004385</td>\n",
              "      <td>0.006227</td>\n",
              "      <td>0.009744</td>\n",
              "      <td>0.048833</td>\n",
              "      <td>0.013016</td>\n",
              "      <td>0.016328</td>\n",
              "    </tr>\n",
              "    <tr>\n",
              "      <th>2301</th>\n",
              "      <td>0.009007</td>\n",
              "      <td>0.004135</td>\n",
              "      <td>0.005176</td>\n",
              "      <td>0.005740</td>\n",
              "      <td>0.005363</td>\n",
              "      <td>0.004864</td>\n",
              "      <td>0.004165</td>\n",
              "      <td>0.013016</td>\n",
              "      <td>0.053439</td>\n",
              "      <td>0.003003</td>\n",
              "    </tr>\n",
              "    <tr>\n",
              "      <th>4938</th>\n",
              "      <td>0.022507</td>\n",
              "      <td>0.003120</td>\n",
              "      <td>0.009089</td>\n",
              "      <td>0.008828</td>\n",
              "      <td>0.004207</td>\n",
              "      <td>0.007471</td>\n",
              "      <td>0.006510</td>\n",
              "      <td>0.016328</td>\n",
              "      <td>0.003003</td>\n",
              "      <td>0.073854</td>\n",
              "    </tr>\n",
              "  </tbody>\n",
              "</table>\n",
              "</div>"
            ],
            "text/plain": [
              "          2317      2542      2881  ...      2330      2301      4938\n",
              "2317  0.058115  0.005047  0.009263  ...  0.023212  0.009007  0.022507\n",
              "2542  0.005047  0.016832  0.003595  ...  0.006180  0.004135  0.003120\n",
              "2881  0.009263  0.003595  0.021603  ...  0.010097  0.005176  0.009089\n",
              "2324  0.008700  0.002823  0.005717  ...  0.010911  0.005740  0.008828\n",
              "2535  0.007579  0.003115  0.005136  ...  0.004385  0.005363  0.004207\n",
              "5880  0.005134  0.002035  0.005772  ...  0.006227  0.004864  0.007471\n",
              "1101  0.011611  0.003375  0.003293  ...  0.009744  0.004165  0.006510\n",
              "2330  0.023212  0.006180  0.010097  ...  0.048833  0.013016  0.016328\n",
              "2301  0.009007  0.004135  0.005176  ...  0.013016  0.053439  0.003003\n",
              "4938  0.022507  0.003120  0.009089  ...  0.016328  0.003003  0.073854\n",
              "\n",
              "[10 rows x 10 columns]"
            ]
          },
          "metadata": {
            "tags": []
          },
          "execution_count": 9
        }
      ]
    },
    {
      "cell_type": "code",
      "metadata": {
        "colab": {
          "base_uri": "https://localhost:8080/"
        },
        "id": "4qfBfSkDo6AD",
        "outputId": "caea5a6e-a6ef-41b4-dff1-2c23fcd3b1cb"
      },
      "source": [
        "np.random.rand(total_stock)"
      ],
      "execution_count": null,
      "outputs": [
        {
          "output_type": "execute_result",
          "data": {
            "text/plain": [
              "array([0.97932993, 0.25732794, 0.05243954, 0.87447153, 0.06633392,\n",
              "       0.0137094 , 0.86940428, 0.81953579, 0.84668246, 0.49975323])"
            ]
          },
          "metadata": {
            "tags": []
          },
          "execution_count": 7
        }
      ]
    },
    {
      "cell_type": "code",
      "metadata": {
        "colab": {
          "base_uri": "https://localhost:8080/",
          "height": 417
        },
        "id": "DykDWujSZ9Bj",
        "outputId": "cf1afb4b-192b-40ac-d240-26f2a23613ec"
      },
      "source": [
        "risk_list = []\n",
        "return_list = []\n",
        "\n",
        "stop = 0\n",
        "\n",
        "while stop < 1000000:\n",
        "    try:\n",
        "        stop += 1\n",
        "        weight = np.random.rand(total_stock)\n",
        "        weight = weight / sum(weight)\n",
        "        return_list.append(sum(stocks_expected_return * weight))\n",
        "        risk_list.append(np.sqrt(reduce(np.dot, [weight, covariance_matrix, weight.T])))\n",
        "    except:\n",
        "        pass\n",
        "\n",
        "fig = plt.figure(figsize = (10,6))\n",
        "fig.suptitle('Stochastic simulation results', fontsize=18, fontweight='bold')\n",
        "ax = fig.add_subplot()\n",
        "ax.plot(risk_list, return_list, 'o')\n",
        "ax.set_title('n=1,000,000', fontsize=16)\n",
        "fig.savefig('result.png',dpi=300)"
      ],
      "execution_count": null,
      "outputs": [
        {
          "output_type": "display_data",
          "data": {
            "image/png": "[encoded data removed]",
            "text/plain": [
              "<Figure size 720x432 with 1 Axes>"
            ]
          },
          "metadata": {
            "tags": [],
            "needs_background": "light"
          }
        }
      ]
    },
    {
      "cell_type": "code",
      "metadata": {
        "colab": {
          "base_uri": "https://localhost:8080/"
        },
        "id": "V9fTFd4Co4hC",
        "outputId": "69c1779e-36c6-42db-da73-4d8521506233"
      },
      "source": [
        "return_list_y = [i for i in return_list if i <0.1]\n",
        "return_list_y"
      ],
      "execution_count": null,
      "outputs": [
        {
          "output_type": "execute_result",
          "data": {
            "text/plain": [
              "[0.0774905134445131,\n",
              " 0.09753091957800047,\n",
              " 0.09808435713118072,\n",
              " 0.08084482383681811,\n",
              " 0.08681406662024733,\n",
              " 0.08350854002101157,\n",
              " 0.08690101704857642,\n",
              " 0.09439951462873462,\n",
              " 0.0926628416211253,\n",
              " 0.09160253914039561,\n",
              " 0.09147649241091443,\n",
              " 0.09761450864684315,\n",
              " 0.08995551488013673,\n",
              " 0.09277796522604279,\n",
              " 0.08605502618064884,\n",
              " 0.0932462446929876,\n",
              " 0.09899507364514101,\n",
              " 0.09205563855964634,\n",
              " 0.09946801725124782,\n",
              " 0.09451546112353035,\n",
              " 0.09687115663265174]"
            ]
          },
          "metadata": {
            "tags": []
          },
          "execution_count": 19
        }
      ]
    },
    {
      "cell_type": "code",
      "metadata": {
        "id": "o9CpSLtPcEJT"
      },
      "source": [
        "def standard_deviation(weights):\n",
        "    return np.sqrt(reduce(np.dot, [weights, covariance_matrix, weights.T]))\n"
      ],
      "execution_count": null,
      "outputs": []
    },
    {
      "cell_type": "code",
      "metadata": {
        "colab": {
          "base_uri": "https://localhost:8080/"
        },
        "id": "Xl-QFDLwcJ2I",
        "outputId": "c6eb193c-7802-4715-842e-5de6070b4d7b"
      },
      "source": [
        "x0 = stocks_weights\n",
        "bounds = tuple((0, 1) for x in range(total_stock))\n",
        "constraints = [{'type': 'eq', 'fun': lambda x: sum(x) - 1}]\n",
        "minimize_variance = solver.minimize(standard_deviation, x0=x0, constraints=constraints, bounds=bounds)\n",
        "mvp_risk = minimize_variance.fun\n",
        "mvp_return = sum(minimize_variance.x * stocks_expected_return)\n",
        "\n",
        "print('風險最小化投資組合預期報酬率為:' + str(round(mvp_return,2)))\n",
        "print('風險最小化投資組合風險為:' + str(round(mvp_risk,2)))\n",
        "\n",
        "### 結果如下\n",
        "#   風險最小化投資組合預期報酬率為:0.12\n",
        "#   風險最小化投資組合風險為:0.08"
      ],
      "execution_count": null,
      "outputs": [
        {
          "output_type": "stream",
          "text": [
            "風險最小化投資組合預期報酬率為:0.12\n",
            "風險最小化投資組合風險為:0.08\n"
          ],
          "name": "stdout"
        }
      ]
    },
    {
      "cell_type": "code",
      "metadata": {
        "colab": {
          "base_uri": "https://localhost:8080/"
        },
        "id": "Q-4kEkaYruFp",
        "outputId": "b2e6f8e2-b6ba-410f-aa4e-efb579642c54"
      },
      "source": [
        "bounds"
      ],
      "execution_count": null,
      "outputs": [
        {
          "output_type": "execute_result",
          "data": {
            "text/plain": [
              "((0, 1),\n",
              " (0, 1),\n",
              " (0, 1),\n",
              " (0, 1),\n",
              " (0, 1),\n",
              " (0, 1),\n",
              " (0, 1),\n",
              " (0, 1),\n",
              " (0, 1),\n",
              " (0, 1))"
            ]
          },
          "metadata": {
            "tags": []
          },
          "execution_count": 20
        }
      ]
    },
    {
      "cell_type": "code",
      "metadata": {
        "colab": {
          "base_uri": "https://localhost:8080/"
        },
        "id": "PzP-o2FqcTFS",
        "outputId": "ca93906a-1568-4c82-a688-c5516110d297"
      },
      "source": [
        "for i in range(total_stock):\n",
        "    print(str(df.columns[i])+' 佔投資組合權重 : ' + str(format(minimize_variance.x[i], '.4f')))\n"
      ],
      "execution_count": null,
      "outputs": [
        {
          "output_type": "stream",
          "text": [
            "2317 佔投資組合權重 : 0.0000\n",
            "2542 佔投資組合權重 : 0.2113\n",
            "2881 佔投資組合權重 : 0.0420\n",
            "2324 佔投資組合權重 : 0.1212\n",
            "2535 佔投資組合權重 : 0.1827\n",
            "5880 佔投資組合權重 : 0.3534\n",
            "1101 佔投資組合權重 : 0.0731\n",
            "2330 佔投資組合權重 : 0.0000\n",
            "2301 佔投資組合權重 : 0.0162\n",
            "4938 佔投資組合權重 : 0.0000\n"
          ],
          "name": "stdout"
        }
      ]
    },
    {
      "cell_type": "code",
      "metadata": {
        "id": "uGwz2ndwcU8R"
      },
      "source": [
        "x0 = stocks_weights\n",
        "bounds = tuple((0, 1) for x in range(total_stock))\n",
        "\n",
        "efficient_fronter_return_range = np.arange(0.05, 0.35, .005)\n",
        "efficient_fronter_risk_list = []\n",
        "\n",
        "for i in efficient_fronter_return_range:\n",
        "    constraints = [{'type': 'eq', 'fun': lambda x: sum(x) - 1},\n",
        "                   {'type': 'eq', 'fun': lambda x: sum(x * stocks_expected_return) - i}]\n",
        "    efficient_fronter = solver.minimize(standard_deviation, x0=x0, constraints=constraints, bounds=bounds)\n",
        "    efficient_fronter_risk_list.append(efficient_fronter.fun)"
      ],
      "execution_count": null,
      "outputs": []
    },
    {
      "cell_type": "code",
      "metadata": {
        "id": "UJ5M5etfoLoZ"
      },
      "source": [
        "bounds"
      ],
      "execution_count": null,
      "outputs": []
    },
    {
      "cell_type": "code",
      "metadata": {
        "id": "psSmkfdjoNhF"
      },
      "source": [
        ""
      ],
      "execution_count": null,
      "outputs": []
    },
    {
      "cell_type": "code",
      "metadata": {
        "colab": {
          "base_uri": "https://localhost:8080/",
          "height": 397
        },
        "id": "jefSvY0xcc3i",
        "outputId": "d55383ce-0b82-4287-cb20-639f35cc6cd2"
      },
      "source": [
        "risk_free = 0.01\n",
        "\n",
        "fig = plt.figure(figsize = (12,6))\n",
        "fig.subplots_adjust(top=0.85)\n",
        "ax = fig.add_subplot()\n",
        "\n",
        "fig.subplots_adjust(top=0.85)\n",
        "ax0 = ax.scatter(risk_list, return_list,\n",
        "                c=(np.array(return_list)-risk_free)/np.array(risk_list),\n",
        "                marker = 'o')\n",
        "ax.plot(efficient_fronter_risk_list, efficient_fronter_return_range, linewidth=1, color='#251f6b', marker='o',\n",
        "         markerfacecolor='#251f6b', markersize=5)\n",
        "ax.plot(mvp_risk, mvp_return,'*',color='r', markerfacecolor='#ed1313',  markersize=25)\n",
        "\n",
        "\n",
        "ax.spines['right'].set_visible(False)\n",
        "ax.spines['top'].set_visible(False)\n",
        "ax.set_title('Efficient Frontier', fontsize=22, fontweight='bold')\n",
        "ax.set_xlabel('Risk')\n",
        "ax.set_ylabel('Return')\n",
        "fig.colorbar(ax0, ax=ax, label = 'Sharpe Ratio')\n",
        "plt.savefig('Efficient_Frontier.png',dpi=300)"
      ],
      "execution_count": null,
      "outputs": [
        {
          "output_type": "display_data",
          "data": {
            "image/png": "[encoded data removed]",
            "text/plain": [
              "<Figure size 864x432 with 2 Axes>"
            ]
          },
          "metadata": {
            "tags": [],
            "needs_background": "light"
          }
        }
      ]
    },
    {
      "cell_type": "code",
      "metadata": {
        "colab": {
          "base_uri": "https://localhost:8080/"
        },
        "id": "E3xBaPMPv1fV",
        "outputId": "fa2ed427-afd5-4768-8ace-cf83dfeabe4e"
      },
      "source": [
        "#sortino ratio of stocks\n",
        "for i in returns.columns :\n",
        "  r = returns[i]\n",
        "  print(i,r[r < 0].var())"
      ],
      "execution_count": null,
      "outputs": [
        {
          "output_type": "stream",
          "text": [
            "2317 7.446856348599452e-05\n",
            "2542 6.421219295211219e-05\n",
            "2881 3.8266237276136425e-05\n",
            "2324 4.165043637556951e-05\n",
            "2535 8.903498730121396e-05\n",
            "5880 3.320284682644467e-05\n",
            "1101 0.0002461567446005037\n",
            "2330 6.617279261524273e-05\n",
            "2301 0.00013955659743397213\n",
            "4938 0.00015093553329605713\n"
          ],
          "name": "stdout"
        }
      ]
    },
    {
      "cell_type": "code",
      "metadata": {
        "colab": {
          "base_uri": "https://localhost:8080/"
        },
        "id": "Gf81sbfGw8uL",
        "outputId": "1e065639-c865-4a83-849f-aa5d9799104b"
      },
      "source": [
        "returns.columns"
      ],
      "execution_count": null,
      "outputs": [
        {
          "output_type": "execute_result",
          "data": {
            "text/plain": [
              "Index(['2317', '2542', '2881', '2324', '2535', '5880', '1101', '2330', '2301',\n",
              "       '4938'],\n",
              "      dtype='object')"
            ]
          },
          "metadata": {
            "tags": []
          },
          "execution_count": 33
        }
      ]
    }
  ]
}